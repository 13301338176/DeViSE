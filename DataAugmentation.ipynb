{
 "cells": [
  {
   "cell_type": "code",
   "execution_count": 68,
   "metadata": {},
   "outputs": [
    {
     "name": "stdout",
     "output_type": "stream",
     "text": [
      "(50000, 32, 32, 3)\n"
     ]
    }
   ],
   "source": [
    "# -*- coding:utf-8 -*-\n",
    "\n",
    "import os\n",
    "import sys\n",
    "import random\n",
    "import numpy as np\n",
    "from six.moves import cPickle\n",
    "\n",
    "class_num = 100\n",
    "image_size = 32\n",
    "img_channels = 3\n",
    "\n",
    "\n",
    "# ========================================================== #\n",
    "# ├─ prepare_data()\n",
    "#  ├─ download training data if not exist by download_data()\n",
    "#  ├─ load data by load_data()\n",
    "#  └─ shuffe and return data\n",
    "# ========================================================== #\n",
    "\n",
    "\n",
    "\n",
    "def load_batch(fpath, label_key='labels'):\n",
    "  \"\"\"Internal utility for parsing CIFAR data.\n",
    "  Arguments:\n",
    "      fpath: path the file to parse.\n",
    "      label_key: key for label data in the retrieve\n",
    "          dictionary.\n",
    "  Returns:\n",
    "      A tuple `(data, labels)`.\n",
    "  \"\"\"\n",
    "    f = open(fpath, 'rb')\n",
    "    if sys.version_info < (3,):\n",
    "        d = cPickle.load(f)\n",
    "  else:\n",
    "    d = cPickle.load(f, encoding='bytes')\n",
    "    # decode utf8\n",
    "    d_decoded = {}\n",
    "    for k, v in d.items():\n",
    "      d_decoded[k.decode('utf8')] = v\n",
    "    d = d_decoded\n",
    "  f.close()\n",
    "  data = d['data']\n",
    "  labels = d[label_key]\n",
    "\n",
    "  data = data.reshape(data.shape[0], 3, 32, 32)\n",
    "  return data, labels\n",
    "\n",
    "\n",
    "def load_data(label_mode='fine', path='./Data/cifar-100'):\n",
    "  \"\"\"Loads CIFAR100 dataset.\n",
    "  Arguments:\n",
    "      label_mode: one of \"fine\", \"coarse\".\n",
    "  Returns:\n",
    "      Tuple of Numpy arrays: `(x_train, y_train), (x_test, y_test)`.\n",
    "  Raises:\n",
    "      ValueError: in case of invalid `label_mode`.\n",
    "  \"\"\"\n",
    "  if label_mode not in ['fine', 'coarse']:\n",
    "    raise ValueError('label_mode must be one of \"fine\" \"coarse\".')\n",
    "\n",
    "  fpath = os.path.join(path, 'train')\n",
    "  x_train, y_train = load_batch(fpath, label_key=label_mode + '_labels')\n",
    "\n",
    "  fpath = os.path.join(path, 'test')\n",
    "  x_test, y_test = load_batch(fpath, label_key=label_mode + '_labels')\n",
    "\n",
    "  y_train = np.reshape(y_train, (len(y_train), 1))\n",
    "  y_test = np.reshape(y_test, (len(y_test), 1))\n",
    "\n",
    "  x_train = x_train.transpose(0, 2, 3, 1)\n",
    "  x_test = x_test.transpose(0, 2, 3, 1)\n",
    "\n",
    "  return (x_train, y_train), (x_test, y_test)\n",
    "\n",
    "\n",
    "# ========================================================== #\n",
    "# ├─ _random_crop()\n",
    "# ├─ _random_flip_leftright()\n",
    "# ├─ data_augmentation()\n",
    "# └─ color_preprocessing()\n",
    "# ========================================================== #\n",
    "\n",
    "def _random_crop(batch, crop_shape, padding=None):\n",
    "    oshape = np.shape(batch[0])\n",
    "\n",
    "    if padding:\n",
    "        oshape = (oshape[0] + 2 * padding, oshape[1] + 2 * padding)\n",
    "    new_batch = []\n",
    "    npad = ((padding, padding), (padding, padding), (0, 0))\n",
    "    for i in range(len(batch)):\n",
    "        new_batch.append(batch[i])\n",
    "        if padding:\n",
    "            new_batch[i] = np.lib.pad(batch[i], pad_width=npad,\n",
    "                                      mode='constant', constant_values=0)\n",
    "        nh = random.randint(0, oshape[0] - crop_shape[0])\n",
    "        nw = random.randint(0, oshape[1] - crop_shape[1])\n",
    "        new_batch[i] = new_batch[i][nh:nh + crop_shape[0],\n",
    "                       nw:nw + crop_shape[1]]\n",
    "    return new_batch\n",
    "\n",
    "\n",
    "def _random_flip_leftright(batch):\n",
    "    for i in range(len(batch)):\n",
    "        if bool(random.getrandbits(1)):\n",
    "            batch[i] = np.fliplr(batch[i])\n",
    "    return batch\n",
    "\n",
    "\n",
    "def color_preprocessing(x_train, x_test):\n",
    "    x_train = x_train.astype('float32')\n",
    "    x_test = x_test.astype('float32')\n",
    "    x_train[:, :, :, 0] = (x_train[:, :, :, 0] - np.mean(x_train[:, :, :, 0])) / np.std(x_train[:, :, :, 0])\n",
    "    x_train[:, :, :, 1] = (x_train[:, :, :, 1] - np.mean(x_train[:, :, :, 1])) / np.std(x_train[:, :, :, 1])\n",
    "    x_train[:, :, :, 2] = (x_train[:, :, :, 2] - np.mean(x_train[:, :, :, 2])) / np.std(x_train[:, :, :, 2])\n",
    "\n",
    "    x_test[:, :, :, 0] = (x_test[:, :, :, 0] - np.mean(x_test[:, :, :, 0])) / np.std(x_test[:, :, :, 0])\n",
    "    x_test[:, :, :, 1] = (x_test[:, :, :, 1] - np.mean(x_test[:, :, :, 1])) / np.std(x_test[:, :, :, 1])\n",
    "    x_test[:, :, :, 2] = (x_test[:, :, :, 2] - np.mean(x_test[:, :, :, 2])) / np.std(x_test[:, :, :, 2])\n",
    "\n",
    "    return x_train, x_test\n",
    "\n",
    "\n",
    "def data_augmentation(batch):\n",
    "    batch = _random_flip_leftright(batch)\n",
    "    batch = _random_crop(batch, [32, 32], 4)\n",
    "    return np.array(batch, dtype=np.int32)\n",
    "\n",
    "(x_train, y_train), (x_test, y_test) = load_data()\n",
    "print(x_train.shape)\n"
   ]
  },
  {
   "cell_type": "code",
   "execution_count": 85,
   "metadata": {},
   "outputs": [
    {
     "name": "stdout",
     "output_type": "stream",
     "text": [
      "Train Data shape:  (50000, 32, 32, 3)\n",
      "Train Label shape:  (50000, 1)\n",
      "['seal']\n",
      "(32, 32, 3)\n"
     ]
    },
    {
     "data": {
      "image/png": "[encoded data removed]",
      "text/plain": [
       "<matplotlib.figure.Figure at 0x114d87278>"
      ]
     },
     "metadata": {},
     "output_type": "display_data"
    }
   ],
   "source": [
    "import tensorflow as tf\n",
    "import numpy as np\n",
    "import os\n",
    "import matplotlib.pyplot as plt\n",
    "\n",
    "def unpickle(file):\n",
    "    import pickle\n",
    "    with open(file, 'rb') as fo:\n",
    "        dict = pickle.load(fo, encoding='bytes')\n",
    "    return dict # return dic keys: [b'filenames', b'batch_label', b'fine_labels', b'coarse_labels', b'data']\n",
    "\n",
    "########## Data ##########\n",
    "# Data format:\n",
    "# data -- a 10000x3072 numpy array of uint8s. \n",
    "#         Each row of the array stores a 32x32 colour image. \n",
    "#         The first 1024 entries contain the red channel values, \n",
    "#         the next 1024 the green, and the final 1024 the blue. \n",
    "#         The image is stored in row-major order, so that the first 32 entries of the array are the red channel values of the first row of the image.\n",
    "# labels -- a list of 10000 numbers in the range 0-99. The number at index i indicates the label of the ith image in the array data.\n",
    "\n",
    "# # Load training data\n",
    "# train_set = unpickle('./Data/cifar-100/train')\n",
    "# train_data = np.asarray(train_set[b'data'], dtype=np.float32) # shape (50000, 3072) 50000 images of 32x32x3 values\n",
    "# train_labels = np.asarray(train_set[b'fine_labels'], dtype=np.int32)\n",
    "# filenames = np.asarray(train_set[b'filenames'])\n",
    "\n",
    "classes = unpickle('./Data/cifar-100/meta')\n",
    "fine_class = np.asarray(classes[b'fine_label_names'], dtype=np.dtype(np.str))\n",
    "coarse_class = np.asarray(classes[b'coarse_label_names'], dtype=np.dtype(np.str))\n",
    "\n",
    "print('Train Data shape: ', x_train.shape)\n",
    "print('Train Label shape: ', y_train.shape)\n",
    "\n",
    "# plot a randomly chosen image\n",
    "img = round(np.random.rand() * x_train.shape[0])\n",
    "print(fine_class[y_train[img]])\n",
    "train_data_img = x_train[img]\n",
    "print(train_data_img.shape)\n",
    "plt.imshow(train_data_img.astype(\"uint8\"),interpolation='none')\n",
    "plt.show()\n",
    "########## Data ##########"
   ]
  },
  {
   "cell_type": "code",
   "execution_count": 84,
   "metadata": {},
   "outputs": [
    {
     "name": "stdout",
     "output_type": "stream",
     "text": [
      "(50, 32, 32, 3)\n"
     ]
    },
    {
     "data": {
      "image/png": "[encoded data removed]",
      "text/plain": [
       "<matplotlib.figure.Figure at 0x114e40128>"
      ]
     },
     "metadata": {},
     "output_type": "display_data"
    }
   ],
   "source": [
    "test = data_augmentation(x_train[:50])\n",
    "print(test.shape)\n",
    "plt.imshow(test[0].astype(\"uint8\"),interpolation='none')\n",
    "plt.show()"
   ]
  },
  {
   "cell_type": "code",
   "execution_count": null,
   "metadata": {},
   "outputs": [],
   "source": []
  }
 ],
 "metadata": {
  "kernelspec": {
   "display_name": "my-virtualenv-tensorflow",
   "language": "python",
   "name": "my-virtualenv-tensorflow"
  },
  "language_info": {
   "codemirror_mode": {
    "name": "ipython",
    "version": 3
   },
   "file_extension": ".py",
   "mimetype": "text/x-python",
   "name": "python",
   "nbconvert_exporter": "python",
   "pygments_lexer": "ipython3",
   "version": "3.6.3"
  }
 },
 "nbformat": 4,
 "nbformat_minor": 2
}
